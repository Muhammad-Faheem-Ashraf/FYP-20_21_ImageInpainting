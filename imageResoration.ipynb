{
  "nbformat": 4,
  "nbformat_minor": 0,
  "metadata": {
    "accelerator": "GPU",
    "colab": {
      "name": "imageResoration.ipynb",
      "provenance": [],
      "collapsed_sections": []
    },
    "kernelspec": {
      "display_name": "Python 3",
      "name": "python3"
    }
  },
  "cells": [
    {
      "cell_type": "code",
      "metadata": {
        "id": "dc-EZnrDv68z"
      },
      "source": [
        "%rm -r photo_restoration"
      ],
      "execution_count": null,
      "outputs": []
    },
    {
      "cell_type": "code",
      "metadata": {
        "id": "whIinkltuZPp"
      },
      "source": [
        "!git clone https://github.com/yasamin-niknam/Image-Restoration.git photo_restoration"
      ],
      "execution_count": null,
      "outputs": []
    },
    {
      "cell_type": "code",
      "metadata": {
        "id": "32jCofdSr8AW"
      },
      "source": [
        "\n",
        "%cd /content/photo_restoration/Face_Enhancement/models_FE/networks\n",
        "!git clone https://github.com/vacancy/Synchronized-BatchNorm-PyTorch\n",
        "!cp -rf Synchronized-BatchNorm-PyTorch/sync_batchnorm .\n",
        "%cd ../../../\n",
        "\n",
        "%cd Global/detection_models\n",
        "!git clone https://github.com/vacancy/Synchronized-BatchNorm-PyTorch\n",
        "!cp -rf Synchronized-BatchNorm-PyTorch/sync_batchnorm .\n",
        "%cd ../../\n",
        "\n",
        "# download the landmark detection model\n",
        "%cd Face_Detection/\n",
        "!wget http://dlib.net/files/shape_predictor_68_face_landmarks.dat.bz2\n",
        "!bzip2 -d shape_predictor_68_face_landmarks.dat.bz2\n",
        "%cd ../\n",
        "\n",
        "# download the pretrained model\n",
        "%cd Face_Enhancement/\n",
        "!wget https://facevc.blob.core.windows.net/zhanbo/old_photo/pretrain/Face_Enhancement/checkpoints.zip\n",
        "!unzip checkpoints.zip\n",
        "%cd ../\n",
        "\n",
        "%cd Global/\n",
        "!wget https://facevc.blob.core.windows.net/zhanbo/old_photo/pretrain/Global/checkpoints.zip\n",
        "!unzip checkpoints.zip\n",
        "%cd ../"
      ],
      "execution_count": null,
      "outputs": []
    },
    {
      "cell_type": "code",
      "metadata": {
        "id": "B3v8tvmtw85c"
      },
      "source": [
        "! pip install -r requirements.txt"
      ],
      "execution_count": null,
      "outputs": []
    },
    {
      "cell_type": "markdown",
      "metadata": {
        "id": "soHBzgRU8rPY"
      },
      "source": [
        "#◢ Run the code"
      ]
    },
    {
      "cell_type": "markdown",
      "metadata": {
        "id": "T4ygwoLT1cjq"
      },
      "source": [
        "### Prerequisits"
      ]
    },
    {
      "cell_type": "code",
      "metadata": {
        "id": "6yeeDiM4exHz"
      },
      "source": [
        "import io\n",
        "import os\n",
        "import IPython.display\n",
        "import numpy as np\n",
        "import PIL.Image\n",
        "\n",
        "def imshow(a, format='png', jpeg_fallback=True):\n",
        "    a = np.asarray(a, dtype=np.uint8)\n",
        "    data = io.BytesIO()\n",
        "    PIL.Image.fromarray(a).save(data, format)\n",
        "    im_data = data.getvalue()\n",
        "    try:\n",
        "      disp = IPython.display.display(IPython.display.Image(im_data))\n",
        "    except IOError:\n",
        "      if jpeg_fallback and format != 'jpeg':\n",
        "        print(('Warning: image was too large to display in format \"{}\"; '\n",
        "              'trying jpeg instead.').format(format))\n",
        "        return imshow(a, format='jpeg')\n",
        "      else:\n",
        "        raise\n",
        "    return disp\n",
        "\n",
        "def make_grid(I1, I2, resize=True):\n",
        "    I1 = np.asarray(I1)\n",
        "    H, W = I1.shape[0], I1.shape[1]\n",
        "    \n",
        "    if I1.ndim >= 3:\n",
        "        I2 = np.asarray(I2.resize((W,H)))\n",
        "        I_combine = np.zeros((H,W*2,3))\n",
        "        I_combine[:,:W,:] = I1[:,:,:3]\n",
        "        I_combine[:,W:,:] = I2[:,:,:3]\n",
        "    else:\n",
        "        I2 = np.asarray(I2.resize((W,H)).convert('L'))\n",
        "        I_combine = np.zeros((H,W*2))\n",
        "        I_combine[:,:W] = I1[:,:]\n",
        "        I_combine[:,W:] = I2[:,:]\n",
        "    I_combine = PIL.Image.fromarray(np.uint8(I_combine))\n",
        "\n",
        "    W_base = 600\n",
        "    if resize:\n",
        "      ratio = W_base / (W*2)\n",
        "      H_new = int(H * ratio)\n",
        "      I_combine = I_combine.resize((W_base, H_new), PIL.Image.LANCZOS)\n",
        "\n",
        "    return I_combine"
      ],
      "execution_count": 5,
      "outputs": []
    },
    {
      "cell_type": "markdown",
      "metadata": {
        "id": "EVpoONmCcJDt"
      },
      "source": [
        "### Restore photos (normal mode)"
      ]
    },
    {
      "cell_type": "code",
      "metadata": {
        "id": "q6lNy6jw5rjd"
      },
      "source": [
        "%cd /content/photo_restoration/\n",
        "input_folder = \"test_images/old\"\n",
        "output_folder = \"output\"\n",
        "\n",
        "basepath = os.getcwd()\n",
        "input_path = os.path.join(basepath, input_folder)\n",
        "output_path = os.path.join(basepath, output_folder)\n",
        "# os.mkdir(output_path)\n",
        "\n",
        "!python run.py --input_folder /content/photo_restoration/test_images/old --output_folder /content/photo_restoration/output/ --GPU 0"
      ],
      "execution_count": null,
      "outputs": []
    },
    {
      "cell_type": "code",
      "metadata": {
        "id": "u_Eo4Hjti7Nh"
      },
      "source": [
        "filenames = os.listdir(os.path.join(input_path))\n",
        "filenames.sort()\n",
        "\n",
        "for filename in filenames:\n",
        "    print(filename)\n",
        "    image_original = PIL.Image.open(os.path.join(input_path, filename))\n",
        "    image_restore = PIL.Image.open(os.path.join(output_path, 'final_output', filename))\n",
        "\n",
        "    display(make_grid(image_original, image_restore))"
      ],
      "execution_count": null,
      "outputs": []
    },
    {
      "cell_type": "markdown",
      "metadata": {
        "id": "tSUF96UgTuwd"
      },
      "source": [
        "### Restore the photos with scratches"
      ]
    },
    {
      "cell_type": "code",
      "metadata": {
        "id": "K-yb3lO5T8aM"
      },
      "source": [
        "!rm -rf /content/photo_restoration/output/*\n",
        "\n",
        "!python run.py --input_folder /content/photo_restoration/test_images/old_w_scratch --output_folder /content/photo_restoration/output/ --GPU 0  --with_scratch"
      ],
      "execution_count": null,
      "outputs": []
    },
    {
      "cell_type": "code",
      "metadata": {
        "id": "0ijEePxUac4J"
      },
      "source": [
        "input_folder = \"test_images/old\"\n",
        "output_folder = \"output\"\n",
        "\n",
        "basepath = os.getcwd()\n",
        "input_path = os.path.join(basepath, input_folder)\n",
        "output_path = os.path.join(basepath, output_folder)"
      ],
      "execution_count": 9,
      "outputs": []
    },
    {
      "cell_type": "code",
      "metadata": {
        "id": "dSSORPEMUSH0"
      },
      "source": [
        "input_folder = \"test_images/old_w_scratch\"\n",
        "output_folder = \"output\"\n",
        "input_path = os.path.join(basepath, input_folder)\n",
        "output_path = os.path.join(basepath, output_folder)\n",
        "\n",
        "filenames = os.listdir(os.path.join(input_path))\n",
        "filenames.sort()\n",
        "\n",
        "for filename in filenames:\n",
        "    print(filename)\n",
        "    image_original = PIL.Image.open(os.path.join(input_path, filename))\n",
        "    image_restore = PIL.Image.open(os.path.join(output_path, 'final_output', filename))\n",
        "\n",
        "    display(make_grid(image_original, image_restore))"
      ],
      "execution_count": null,
      "outputs": []
    },
    {
      "cell_type": "markdown",
      "metadata": {
        "id": "LMnje_NWj24x"
      },
      "source": [
        "#◢ upload photos!"
      ]
    },
    {
      "cell_type": "code",
      "metadata": {
        "id": "8Vov9hg957-D"
      },
      "source": [
        "from google.colab import files\n",
        "import shutil\n",
        "import os \n",
        "\n",
        "upload_path = os.path.join(basepath, \"test_images\", \"upload\")\n",
        "upload_output_path = os.path.join(basepath, \"upload_output\")\n",
        "\n",
        "if os.path.isdir(upload_output_path):\n",
        "    shutil.rmtree(upload_output_path)\n",
        "\n",
        "if os.path.isdir(upload_path):\n",
        "    shutil.rmtree(upload_path)\n",
        "\n",
        "os.mkdir(upload_output_path)\n",
        "os.mkdir(upload_path)\n",
        "\n",
        "uploaded = files.upload()\n",
        "for filename in uploaded.keys():\n",
        "    shutil.move(os.path.join(basepath, filename), os.path.join(upload_path, filename))"
      ],
      "execution_count": null,
      "outputs": []
    },
    {
      "cell_type": "markdown",
      "metadata": {
        "id": "cy9vSWTHMH5U"
      },
      "source": [
        "Run the processing with:"
      ]
    },
    {
      "cell_type": "code",
      "metadata": {
        "id": "EgRUwTqsjr7m"
      },
      "source": [
        "!python run.py --input_folder /content/photo_restoration/test_images/upload --output_folder /content/photo_restoration/upload_output --GPU 0  --with_scratch"
      ],
      "execution_count": null,
      "outputs": []
    },
    {
      "cell_type": "code",
      "metadata": {
        "id": "KvqDOPXnLmkl"
      },
      "source": [
        "filenames_upload = os.listdir(os.path.join(upload_path))\n",
        "filenames_upload.sort()\n",
        "\n",
        "filenames_upload_output = os.listdir(os.path.join(upload_output_path, \"final_output\"))\n",
        "filenames_upload_output.sort()\n",
        "\n",
        "for filename, filename_output in zip(filenames_upload, filenames_upload_output):\n",
        "    image_original = PIL.Image.open(os.path.join(upload_path, filename))\n",
        "    image_restore = PIL.Image.open(os.path.join(upload_output_path, \"final_output\", filename_output))\n",
        "\n",
        "    display(make_grid(image_original, image_restore))\n",
        "    print(\"\")"
      ],
      "execution_count": 14,
      "outputs": []
    }
  ]
}