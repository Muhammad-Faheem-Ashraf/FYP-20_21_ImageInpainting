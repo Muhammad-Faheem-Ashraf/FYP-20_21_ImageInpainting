{
 "cells": [
  {
   "cell_type": "code",
   "execution_count": 1,
   "id": "d15b2cb3-583e-4632-a5bf-f9cf5536fd24",
   "metadata": {},
   "outputs": [
    {
     "name": "stdout",
     "output_type": "stream",
     "text": [
      "Requirement already satisfied: bm3d in c:\\programdata\\anaconda3\\lib\\site-packages (3.0.9)\n",
      "Requirement already satisfied: numpy in c:\\programdata\\anaconda3\\lib\\site-packages (from bm3d) (1.20.1)\n",
      "Requirement already satisfied: PyWavelets in c:\\programdata\\anaconda3\\lib\\site-packages (from bm3d) (1.1.1)\n",
      "Requirement already satisfied: scipy in c:\\programdata\\anaconda3\\lib\\site-packages (from bm3d) (1.6.2)\n"
     ]
    }
   ],
   "source": [
    "!pip install bm3d"
   ]
  },
  {
   "cell_type": "code",
   "execution_count": 2,
   "id": "9ebdf45c-e284-4e51-9de3-8b6f700859ba",
   "metadata": {
    "scrolled": true
   },
   "outputs": [
    {
     "name": "stdout",
     "output_type": "stream",
     "text": [
      "Requirement already satisfied: python-multipart in c:\\programdata\\anaconda3\\lib\\site-packages (0.0.5)\n",
      "Requirement already satisfied: six>=1.4.0 in c:\\programdata\\anaconda3\\lib\\site-packages (from python-multipart) (1.15.0)\n"
     ]
    }
   ],
   "source": [
    "!pip install python-multipart"
   ]
  },
  {
   "cell_type": "code",
   "execution_count": 3,
   "id": "259a0ada-76da-4ac8-90b5-a71fc7a7aa6e",
   "metadata": {},
   "outputs": [],
   "source": [
    "!pip install FastAPI -q\n",
    "!pip install uvicorn -q"
   ]
  },
  {
   "cell_type": "code",
   "execution_count": 4,
   "id": "0f0465da-b24f-4cc1-8a97-fdac3070fda0",
   "metadata": {},
   "outputs": [],
   "source": [
    "from fastapi import FastAPI\n",
    "\n",
    "app = FastAPI()\n",
    "\n",
    "\n",
    "@app.get(\"/\")\n",
    "async def root():\n",
    "    return {\"message\": \"Hello World\"}"
   ]
  },
  {
   "cell_type": "code",
   "execution_count": null,
   "id": "c66b1b4d-a20f-4dfe-bf8e-77032f27cfb3",
   "metadata": {},
   "outputs": [],
   "source": []
  },
  {
   "cell_type": "code",
   "execution_count": 5,
   "id": "23a86765-8748-4a38-8a22-30d3b754d933",
   "metadata": {},
   "outputs": [
    {
     "name": "stdout",
     "output_type": "stream",
     "text": [
      "Requirement already satisfied: fastapi in c:\\programdata\\anaconda3\\lib\\site-packages (0.67.0)\n",
      "Requirement already satisfied: nest-asyncio in c:\\programdata\\anaconda3\\lib\\site-packages (1.5.1)\n",
      "Requirement already satisfied: pyngrok in c:\\programdata\\anaconda3\\lib\\site-packages (5.0.5)\n",
      "Requirement already satisfied: uvicorn in c:\\programdata\\anaconda3\\lib\\site-packages (0.14.0)\n",
      "Requirement already satisfied: python-multipart in c:\\programdata\\anaconda3\\lib\\site-packages (0.0.5)\n",
      "Requirement already satisfied: pydantic!=1.7,!=1.7.1,!=1.7.2,!=1.7.3,!=1.8,!=1.8.1,<2.0.0,>=1.6.2 in c:\\programdata\\anaconda3\\lib\\site-packages (from fastapi) (1.8.2)\n",
      "Requirement already satisfied: starlette==0.14.2 in c:\\programdata\\anaconda3\\lib\\site-packages (from fastapi) (0.14.2)\n",
      "Requirement already satisfied: typing-extensions>=3.7.4.3 in c:\\programdata\\anaconda3\\lib\\site-packages (from pydantic!=1.7,!=1.7.1,!=1.7.2,!=1.7.3,!=1.8,!=1.8.1,<2.0.0,>=1.6.2->fastapi) (3.7.4.3)\n",
      "Requirement already satisfied: PyYAML in c:\\programdata\\anaconda3\\lib\\site-packages (from pyngrok) (5.4.1)\n",
      "Requirement already satisfied: six>=1.4.0 in c:\\programdata\\anaconda3\\lib\\site-packages (from python-multipart) (1.15.0)\n",
      "Requirement already satisfied: h11>=0.8 in c:\\programdata\\anaconda3\\lib\\site-packages (from uvicorn) (0.12.0)\n",
      "Requirement already satisfied: asgiref>=3.3.4 in c:\\programdata\\anaconda3\\lib\\site-packages (from uvicorn) (3.4.1)\n",
      "Requirement already satisfied: click>=7.* in c:\\programdata\\anaconda3\\lib\\site-packages (from uvicorn) (7.1.2)\n"
     ]
    }
   ],
   "source": [
    "!pip install fastapi nest-asyncio pyngrok uvicorn python-multipart"
   ]
  },
  {
   "cell_type": "code",
   "execution_count": 6,
   "id": "cf6d4b53-6eb7-44b0-8c36-1652e2e86c98",
   "metadata": {
    "scrolled": true
   },
   "outputs": [
    {
     "name": "stderr",
     "output_type": "stream",
     "text": [
      "ERROR: Could not find a version that satisfies the requirement io\n",
      "ERROR: No matching distribution found for io\n"
     ]
    }
   ],
   "source": [
    "!pip install io\n",
    "from io import StringIO "
   ]
  },
  {
   "cell_type": "code",
   "execution_count": 7,
   "id": "01e3df16-cce8-4825-9c57-c4c24929363a",
   "metadata": {},
   "outputs": [],
   "source": [
    "from fastapi import FastAPI, File, UploadFile\n",
    "from fastapi.middleware.cors import CORSMiddleware\n",
    "\n",
    "from fastapi.responses import Response\n",
    "import os\n",
    "from random import randint\n",
    "import uuid\n",
    "import io\n",
    "\n",
    "from PIL import Image\n",
    "import binascii\n",
    "import io as StringIO\n",
    "\n",
    "app = FastAPI()\n",
    "db = []\n",
    "app.add_middleware(\n",
    "    CORSMiddleware,\n",
    "    allow_origins=['*'],\n",
    "    allow_credentials=True,\n",
    "    allow_methods=['*'],\n",
    "    allow_headers=['*'],\n",
    ")\n",
    "\n",
    "@app.get('/')\n",
    "async def root():\n",
    "    return {'hello': 'world'}\n",
    "\n",
    "@app.get('/myroot')\n",
    "async def myroot():\n",
    "    return {'hello': 'world2'}\n",
    "\n",
    "@app.post(\"/images/\")\n",
    "async def create_upload_file(file: UploadFile = File(...)):\n",
    "\n",
    "    file.filename = f\"{uuid.uuid4()}.jpg\"\n",
    "    contents = await file.read()  # <-- Important!\n",
    "    \n",
    "    r_data = binascii.unhexlify(contents)\n",
    "    stream = io.BytesIO(r_data)\n",
    "    img = Image.open(stream)\n",
    "    print(img.size)\n",
    "    db.append(contents)\n",
    "\n",
    "    return {\"filename\": file.filename}\n",
    "\n",
    "\n",
    "@app.get(\"/images/\")\n",
    "async def read_random_file():\n",
    "\n",
    "    # get a random file from the image db\n",
    "    random_index = randint(0, len(db) - 1)\n",
    "\n",
    "    # return a response object directly as FileResponse expects a file-like object\n",
    "    # and StreamingResponse expects an iterator/generator\n",
    "    response = Response(content=db[random_index])\n",
    "\n",
    "    return response"
   ]
  },
  {
   "cell_type": "code",
   "execution_count": 8,
   "id": "64e3b8df-cc7d-4ebe-8c5b-09dc4012858d",
   "metadata": {},
   "outputs": [
    {
     "name": "stdout",
     "output_type": "stream",
     "text": [
      "Requirement already satisfied: fastapi in c:\\programdata\\anaconda3\\lib\\site-packages (0.67.0)\n",
      "Requirement already satisfied: nest-asyncio in c:\\programdata\\anaconda3\\lib\\site-packages (1.5.1)\n",
      "Requirement already satisfied: pyngrok in c:\\programdata\\anaconda3\\lib\\site-packages (5.0.5)\n",
      "Requirement already satisfied: uvicorn in c:\\programdata\\anaconda3\\lib\\site-packages (0.14.0)\n",
      "Requirement already satisfied: python-multipart in c:\\programdata\\anaconda3\\lib\\site-packages (0.0.5)\n",
      "Requirement already satisfied: bm3d in c:\\programdata\\anaconda3\\lib\\site-packages (3.0.9)\n",
      "Requirement already satisfied: aiofiles in c:\\programdata\\anaconda3\\lib\\site-packages (0.7.0)\n",
      "Requirement already satisfied: PyWavelets in c:\\programdata\\anaconda3\\lib\\site-packages (from bm3d) (1.1.1)\n",
      "Requirement already satisfied: numpy in c:\\programdata\\anaconda3\\lib\\site-packages (from bm3d) (1.20.1)\n",
      "Requirement already satisfied: scipy in c:\\programdata\\anaconda3\\lib\\site-packages (from bm3d) (1.6.2)\n",
      "Requirement already satisfied: pydantic!=1.7,!=1.7.1,!=1.7.2,!=1.7.3,!=1.8,!=1.8.1,<2.0.0,>=1.6.2 in c:\\programdata\\anaconda3\\lib\\site-packages (from fastapi) (1.8.2)\n",
      "Requirement already satisfied: starlette==0.14.2 in c:\\programdata\\anaconda3\\lib\\site-packages (from fastapi) (0.14.2)\n",
      "Requirement already satisfied: typing-extensions>=3.7.4.3 in c:\\programdata\\anaconda3\\lib\\site-packages (from pydantic!=1.7,!=1.7.1,!=1.7.2,!=1.7.3,!=1.8,!=1.8.1,<2.0.0,>=1.6.2->fastapi) (3.7.4.3)\n",
      "Requirement already satisfied: PyYAML in c:\\programdata\\anaconda3\\lib\\site-packages (from pyngrok) (5.4.1)\n",
      "Requirement already satisfied: six>=1.4.0 in c:\\programdata\\anaconda3\\lib\\site-packages (from python-multipart) (1.15.0)\n",
      "Requirement already satisfied: click>=7.* in c:\\programdata\\anaconda3\\lib\\site-packages (from uvicorn) (7.1.2)\n",
      "Requirement already satisfied: h11>=0.8 in c:\\programdata\\anaconda3\\lib\\site-packages (from uvicorn) (0.12.0)\n",
      "Requirement already satisfied: asgiref>=3.3.4 in c:\\programdata\\anaconda3\\lib\\site-packages (from uvicorn) (3.4.1)\n"
     ]
    }
   ],
   "source": [
    " !pip install fastapi nest-asyncio pyngrok uvicorn python-multipart bm3d aiofiles"
   ]
  },
  {
   "cell_type": "code",
   "execution_count": 9,
   "id": "2a7bb3ff-50bc-425b-8fd6-df3142583c2b",
   "metadata": {},
   "outputs": [
    {
     "name": "stdout",
     "output_type": "stream",
     "text": [
      "Requirement already satisfied: ibm-cos-sdk in c:\\programdata\\anaconda3\\lib\\site-packages (2.10.0)\n",
      "Requirement already satisfied: ibm-cos-sdk-core==2.10.0 in c:\\programdata\\anaconda3\\lib\\site-packages (from ibm-cos-sdk) (2.10.0)\n",
      "Requirement already satisfied: jmespath<1.0.0,>=0.7.1 in c:\\programdata\\anaconda3\\lib\\site-packages (from ibm-cos-sdk) (0.10.0)\n",
      "Requirement already satisfied: ibm-cos-sdk-s3transfer==2.10.0 in c:\\programdata\\anaconda3\\lib\\site-packages (from ibm-cos-sdk) (2.10.0)\n",
      "Requirement already satisfied: requests<3.0,>=2.18 in c:\\programdata\\anaconda3\\lib\\site-packages (from ibm-cos-sdk-core==2.10.0->ibm-cos-sdk) (2.25.1)\n",
      "Requirement already satisfied: python-dateutil<3.0.0,>=2.1 in c:\\programdata\\anaconda3\\lib\\site-packages (from ibm-cos-sdk-core==2.10.0->ibm-cos-sdk) (2.8.1)\n",
      "Requirement already satisfied: six>=1.5 in c:\\programdata\\anaconda3\\lib\\site-packages (from python-dateutil<3.0.0,>=2.1->ibm-cos-sdk-core==2.10.0->ibm-cos-sdk) (1.15.0)\n",
      "Requirement already satisfied: certifi>=2017.4.17 in c:\\programdata\\anaconda3\\lib\\site-packages (from requests<3.0,>=2.18->ibm-cos-sdk-core==2.10.0->ibm-cos-sdk) (2020.12.5)\n",
      "Requirement already satisfied: urllib3<1.27,>=1.21.1 in c:\\programdata\\anaconda3\\lib\\site-packages (from requests<3.0,>=2.18->ibm-cos-sdk-core==2.10.0->ibm-cos-sdk) (1.26.4)\n",
      "Requirement already satisfied: idna<3,>=2.5 in c:\\programdata\\anaconda3\\lib\\site-packages (from requests<3.0,>=2.18->ibm-cos-sdk-core==2.10.0->ibm-cos-sdk) (2.10)\n",
      "Requirement already satisfied: chardet<5,>=3.0.2 in c:\\programdata\\anaconda3\\lib\\site-packages (from requests<3.0,>=2.18->ibm-cos-sdk-core==2.10.0->ibm-cos-sdk) (4.0.0)\n"
     ]
    }
   ],
   "source": [
    "!pip install --upgrade ibm-cos-sdk"
   ]
  },
  {
   "cell_type": "code",
   "execution_count": 12,
   "id": "9d04d611",
   "metadata": {},
   "outputs": [
    {
     "name": "stdout",
     "output_type": "stream",
     "text": [
      "Requirement already satisfied: opencv-python in c:\\programdata\\anaconda3\\lib\\site-packages (4.5.3.56)\n",
      "Requirement already satisfied: numpy>=1.17.3 in c:\\programdata\\anaconda3\\lib\\site-packages (from opencv-python) (1.20.1)\n"
     ]
    }
   ],
   "source": [
    "!pip install opencv-python"
   ]
  },
  {
   "cell_type": "code",
   "execution_count": 13,
   "id": "90b61757-6de8-446e-bcbc-da9c68ea4337",
   "metadata": {},
   "outputs": [],
   "source": [
    "from fastapi import FastAPI, File, UploadFile\n",
    "from fastapi.middleware.cors import CORSMiddleware\n",
    "\n",
    "from fastapi.responses import Response\n",
    "import os\n",
    "from random import randint\n",
    "import uuid\n",
    "\n",
    "from PIL import Image\n",
    "from io import BytesIO\n",
    "\n",
    "from skimage import io, img_as_float\n",
    "import bm3d\n",
    "import cv2\n",
    "import numpy as np\n",
    "from PIL import ImageEnhance\n",
    "from skimage.restoration import denoise_nl_means, estimate_sigma\n",
    "from PIL import Image\n",
    "\n",
    "import numpy as np\n",
    "\n",
    "import base64\n",
    "\n",
    "from fastapi.responses import FileResponse\n",
    "\n",
    "import ibm_boto3\n",
    "from ibm_botocore.client import Config,ClientError\n",
    "\n",
    "from pydantic import BaseModel\n",
    "\n",
    "######################## IBM COS\n",
    "api_key = 'iHC4jacDY-Bn0_Gsaz4VV_-iPuMFeeGaNKHksHxKKRSC'\n",
    "service_instance_id = 'crn:v1:bluemix:public:cloud-object-storage:global:a/26941411f7da4860b4c3e3ed96a54149:95ebcf90-1ba6-4918-b31f-d0cb60b03c3c::'\n",
    "auth_endpoint = 'https://iam.bluemix.net/oidc/token'\n",
    "service_endpoint = 'https://s3.jp-tok.cloud-object-storage.appdomain.cloud'\n",
    "\n",
    "cos = ibm_boto3.resource('s3',\n",
    "ibm_api_key_id=api_key,\n",
    "ibm_service_instance_id=service_instance_id,\n",
    "ibm_auth_endpoint=auth_endpoint,\n",
    "config=Config(signature_version='oauth'),\n",
    "endpoint_url=service_endpoint)\n",
    "########################\n",
    "\n",
    "######################## Item\n",
    "class Item(BaseModel):\n",
    "    name: str\n",
    "########################\n",
    "\n",
    "app = FastAPI()\n",
    "db = []\n",
    "app.add_middleware(\n",
    "    CORSMiddleware,\n",
    "    allow_origins=['*'],\n",
    "    allow_credentials=True,\n",
    "    allow_methods=['*'],\n",
    "    allow_headers=['*'],\n",
    ")\n",
    "\n",
    "@app.get('/')\n",
    "async def root():\n",
    "    return {'hello': 'world'}\n",
    "\n",
    "@app.get('/myroot')\n",
    "async def myroot():\n",
    "    return {'hello': 'world2'}\n",
    "\n",
    "@app.post(\"/denoiseimage/\")\n",
    "async def deNoiseColor_Img(file: UploadFile = File(...)):\n",
    "\n",
    "\n",
    "    file.filename = f\"{uuid.uuid4()}.png\"\n",
    "    print(file.filename)\n",
    "    contents = await file.read()  # <-- Important!\n",
    "\n",
    "    stream = BytesIO(contents)\n",
    "\n",
    "    i = Image.open(stream).convert(\"RGB\")\n",
    "    \n",
    "    stream.close()\n",
    "    \n",
    "    image = np.asarray(i)\n",
    "    \n",
    "    image = image/255\n",
    "    \n",
    "    #denoise color image\n",
    "    row,col,ch = image.shape\n",
    "    mean = 0\n",
    "    var = 0.1\n",
    "    sigma = var**1\n",
    "    gauss = np.random.normal(mean,sigma,(row,col,ch))\n",
    "    gauss = gauss.reshape(row,col,ch)\n",
    "    noisy = image + gauss\n",
    "    BM3D_denoised_image1 = bm3d.bm3d(image, .2, stage_arg=bm3d.BM3DStages.ALL_STAGES)\n",
    "    print(type(BM3D_denoised_image1))\n",
    "    im = Image.fromarray((BM3D_denoised_image1 * 255).astype(np.uint8))\n",
    "    buffered = BytesIO()\n",
    "    im.save(buffered, format=\"JPEG\")\n",
    "    img_str = base64.b64encode(buffered.getvalue())\n",
    "    return img_str\n",
    "\n",
    "    \n",
    "@app.post(\"/sharpimage/\")\n",
    "async def Sharpening_Img(file: UploadFile = File(...)):\n",
    "\n",
    "        file.filename = f\"{uuid.uuid4()}.png\"\n",
    "        print(file.filename)\n",
    "        contents = await file.read()  # <-- Important!\n",
    "        \n",
    "        stream = BytesIO(contents)\n",
    "        image = Image.open(stream).convert(\"RGB\")\n",
    "        stream.close()\n",
    "        \n",
    "        enhancer=ImageEnhance.Sharpness(image)\n",
    "        f=.5\n",
    "        fn=enhancer.enhance(f)\n",
    "        \n",
    "        buffered = BytesIO()\n",
    "        fn.save(buffered, format=\"JPEG\")\n",
    "        img_str = base64.b64encode(buffered.getvalue())\n",
    "        return img_str\n",
    "    \n",
    "    \n",
    "    \n",
    "@app.post(\"/uploadimage/\")\n",
    "async def Upload_Img(file: UploadFile = File(...)):\n",
    "\n",
    "        val = uuid.uuid4()\n",
    "        file.filename = f\"{uuid.uuid4()}.png\"\n",
    "        val = str(val)\n",
    "        print(file.filename)\n",
    "        contents = await file.read()  # <-- Important!\n",
    "        \n",
    "        stream = BytesIO(contents)\n",
    "        i = Image.open(stream).convert(\"RGB\")\n",
    "#         image = np.asarray(i)\n",
    "        stream.close()\n",
    "        \n",
    "        i.save(file.filename)\n",
    "#         io.imsave(file.filename,image)\n",
    "        try:\n",
    "            print(\"Starting file transfer for {0} to bucket: {1}\\n\".format(file.filename, \"my-test-bucket-0\"))\n",
    "            part_size = 1024 * 1024 * 5\n",
    "            file_threshold = 1024 * 1024 * 15\n",
    "            transfer_config = ibm_boto3.s3.transfer.TransferConfig(\n",
    "                multipart_threshold=file_threshold,\n",
    "                multipart_chunksize=part_size\n",
    "            )\n",
    "            with open(file.filename, \"rb\") as file_data:\n",
    "                cos.Object(\"my-test-bucket-0\",val).upload_fileobj(\n",
    "                    Fileobj=file_data,\n",
    "                    Config=transfer_config\n",
    "                )\n",
    "            print(\"Transfer for {0} Complete!\\n\".format(file.filename))\n",
    "        except Exception as e:\n",
    "            print(\"Unable to complete multi-part upload: {0}\".format(e))\n",
    "        \n",
    "        \n",
    "@app.post(\"/downloadimage/\")      \n",
    "async def get_image(item_name: Item):\n",
    "    \n",
    "    print(item_name.name)\n",
    "    item_name = item_name.name\n",
    "    bucket_name = \"my-test-bucket-0\"\n",
    "    print(\"Retrieving item from bucket: {0}, key: {1}\".format(bucket_name, item_name))\n",
    "    try:\n",
    "        file = cos.Object(bucket_name, item_name).get()\n",
    "        d = file[\"Body\"].read()\n",
    "        stream = BytesIO(d)\n",
    "        i = Image.open(stream).convert(\"RGB\")\n",
    "        stream.close()\n",
    "        buffered = BytesIO()\n",
    "        i.save(buffered, format=\"JPEG\")\n",
    "        img_str = base64.b64encode(buffered.getvalue())\n",
    "        return img_str\n",
    "        \n",
    "    except Exception as e:\n",
    "        print(\"Unable to retrieve file contents: {0}\".format(e))\n",
    "        \n",
    "        \n",
    "@app.get(\"/getbucketimage/\")       \n",
    "async def get_bucket_images():\n",
    "    bucket_name = \"my-test-bucket-0\"\n",
    "    print(\"Retrieving bucket contents from: {0}\".format(bucket_name))\n",
    "    l = []\n",
    "    try:\n",
    "        files = cos.Bucket(bucket_name).objects.all()\n",
    "        for file in files:\n",
    "            print(\"Item: {0} ({1} bytes).\".format(file.key, file.size))\n",
    "            \n",
    "            \n",
    "            item_name = file.key\n",
    "            bucket_name = \"my-test-bucket-0\"\n",
    "            print(\"Retrieving item from bucket: {0}, key: {1}\".format(bucket_name, item_name))\n",
    "            try:\n",
    "                file = cos.Object(bucket_name, item_name).get()\n",
    "                d = file[\"Body\"].read()\n",
    "                stream = BytesIO(d)\n",
    "                i = Image.open(stream).convert(\"RGB\")\n",
    "                stream.close()\n",
    "                buffered = BytesIO()\n",
    "                i.save(buffered, format=\"JPEG\")\n",
    "                img_str = base64.b64encode(buffered.getvalue())\n",
    "                l.append(img_str)\n",
    "            except Exception as e:\n",
    "                print(\"Unable to retrieve file contents: {0}\".format(e))\n",
    "                \n",
    "        return l\n",
    "    except Exception as e:\n",
    "        print(\"Unable to retrieve bucket contents: {0}\".format(e))"
   ]
  },
  {
   "cell_type": "code",
   "execution_count": null,
   "id": "1457d631-e11f-42a0-babe-589c138ad86a",
   "metadata": {},
   "outputs": [
    {
     "name": "stderr",
     "output_type": "stream",
     "text": [
      "INFO:     Started server process [14976]\n",
      "INFO:     Waiting for application startup.\n",
      "INFO:     Application startup complete.\n",
      "INFO:     Uvicorn running on http://127.0.0.1:7999 (Press CTRL+C to quit)\n"
     ]
    },
    {
     "name": "stdout",
     "output_type": "stream",
     "text": [
      "Public URL: http://8b13481cccd7.ngrok.io\n",
      "INFO:     37.111.128.215:0 - \"GET / HTTP/1.1\" 200 OK\n",
      "INFO:     37.111.128.215:0 - \"GET /favicon.ico HTTP/1.1\" 404 Not Found\n",
      "INFO:     58.27.225.4:0 - \"GET / HTTP/1.1\" 200 OK\n",
      "INFO:     37.111.128.215:0 - \"GET /myroot HTTP/1.1\" 200 OK\n",
      "INFO:     37.111.128.215:0 - \"GET /favicon.ico HTTP/1.1\" 404 Not Found\n",
      "INFO:     182.176.130.6:0 - \"GET /myroot HTTP/1.1\" 200 OK\n"
     ]
    }
   ],
   "source": [
    "import nest_asyncio\n",
    "from pyngrok import ngrok\n",
    "import uvicorn\n",
    "\n",
    "ngrok_tunnel = ngrok.connect(7999)\n",
    "print('Public URL:', ngrok_tunnel.public_url)\n",
    "nest_asyncio.apply()\n",
    "uvicorn.run(app, port=7999)"
   ]
  }
 ],
 "metadata": {
  "kernelspec": {
   "display_name": "Python 3",
   "language": "python",
   "name": "python3"
  },
  "language_info": {
   "codemirror_mode": {
    "name": "ipython",
    "version": 3
   },
   "file_extension": ".py",
   "mimetype": "text/x-python",
   "name": "python",
   "nbconvert_exporter": "python",
   "pygments_lexer": "ipython3",
   "version": "3.8.8"
  }
 },
 "nbformat": 4,
 "nbformat_minor": 5
}
